{
 "cells": [
  {
   "cell_type": "code",
   "execution_count": 8,
   "id": "2ae0216f",
   "metadata": {},
   "outputs": [],
   "source": [
    "def skewList(genome):\n",
    "    vals = []\n",
    "    skew = 0\n",
    "    vals.append(0)\n",
    "    #possible modifications to this is to skip a certain amount of nucleotides whenever G or C is reached:\n",
    "    \n",
    "    for char in genome:\n",
    "        if char == \"G\":\n",
    "            skew = skew + 1\n",
    "        if char == \"C\":\n",
    "           \n",
    "            skew = skew - 1\n",
    "        vals.append(skew)\n",
    "    return vals\n",
    "#this just returns the minimum value of the skew, its position.\n",
    "def MinimumSkew(Genome: str):\n",
    "    \n",
    "    holder = skewList(Genome)\n",
    "    \n",
    "    return [i for i,x in enumerate(holder) if x == min(holder)]"
   ]
  },
  {
   "cell_type": "code",
   "execution_count": 9,
   "id": "04c9f275",
   "metadata": {},
   "outputs": [],
   "source": [
    "file1 = open(\"chr3HLT.txt\",\"r\")\n",
    "data = file1.readlines()\n",
    "genome = data[0]\n",
    "\n",
    "output = MinimumSkew(genome)\n",
    "file1.close()"
   ]
  },
  {
   "cell_type": "code",
   "execution_count": 10,
   "id": "af0fd079",
   "metadata": {},
   "outputs": [
    {
     "data": {
      "text/plain": [
       "[75612, 75613, 75614, 75620, 75621, 75623, 75624, 75625]"
      ]
     },
     "execution_count": 10,
     "metadata": {},
     "output_type": "execute_result"
    }
   ],
   "source": [
    "output\n",
    "#add 61013233 to each number, this is relevant to actual chromosome position \n",
    "#take average position of all these, clarify this is an estimation\n",
    "#all of these are candidates, it makes sense to assume the origin lies in between these positions\n",
    "#assume 75612"
   ]
  },
  {
   "cell_type": "code",
   "execution_count": 11,
   "id": "f6ab52b0",
   "metadata": {},
   "outputs": [
    {
     "data": {
      "text/plain": [
       "[13894, 13895, 13914, 13915]"
      ]
     },
     "execution_count": 11,
     "metadata": {},
     "output_type": "execute_result"
    }
   ],
   "source": [
    "file1 = open(\"chr3CAOV3.txt\",\"r\")\n",
    "data = file1.readlines()\n",
    "genome = data[0]\n",
    "\n",
    "output = MinimumSkew(genome)\n",
    "file1.close()\n",
    "\n",
    "output\n",
    "#add 173376533 to the origins for actual chromosome position"
   ]
  },
  {
   "cell_type": "code",
   "execution_count": 12,
   "id": "86c6e763",
   "metadata": {},
   "outputs": [
    {
     "data": {
      "text/plain": [
       "[51129, 51130, 51131]"
      ]
     },
     "execution_count": 12,
     "metadata": {},
     "output_type": "execute_result"
    }
   ],
   "source": [
    "file1 = open(\"chr3MFE280.txt\",\"r\")\n",
    "data = file1.readlines()\n",
    "genome = data[0]\n",
    "\n",
    "output = MinimumSkew(genome)\n",
    "file1.close()\n",
    "\n",
    "output\n",
    "#add 122740309 to the positions"
   ]
  },
  {
   "cell_type": "code",
   "execution_count": 13,
   "id": "591830b3",
   "metadata": {},
   "outputs": [
    {
     "data": {
      "text/plain": [
       "[101241, 101242, 101243, 101249]"
      ]
     },
     "execution_count": 13,
     "metadata": {},
     "output_type": "execute_result"
    }
   ],
   "source": [
    "file1 = open(\"chr3MFE319.txt\",\"r\")\n",
    "data = file1.readlines()\n",
    "genome = data[0]\n",
    "\n",
    "output = MinimumSkew(genome)\n",
    "file1.close()\n",
    "\n",
    "output\n",
    "#add 168954522 to the positions"
   ]
  },
  {
   "cell_type": "code",
   "execution_count": 14,
   "id": "7a86fa83",
   "metadata": {},
   "outputs": [
    {
     "data": {
      "text/plain": [
       "[148342, 148343, 148441, 148442, 148443]"
      ]
     },
     "execution_count": 14,
     "metadata": {},
     "output_type": "execute_result"
    }
   ],
   "source": [
    "file1 = open(\"chr3SKOV3_OVARY.txt\",\"r\")\n",
    "data = file1.readlines()\n",
    "genome = data[0]\n",
    "\n",
    "output = MinimumSkew(genome)\n",
    "file1.close()\n",
    "\n",
    "output\n",
    "#add 55704726 to the positions\n"
   ]
  },
  {
   "cell_type": "code",
   "execution_count": null,
   "id": "b84e4a65",
   "metadata": {},
   "outputs": [],
   "source": []
  }
 ],
 "metadata": {
  "kernelspec": {
   "display_name": "Python 3 (ipykernel)",
   "language": "python",
   "name": "python3"
  },
  "language_info": {
   "codemirror_mode": {
    "name": "ipython",
    "version": 3
   },
   "file_extension": ".py",
   "mimetype": "text/x-python",
   "name": "python",
   "nbconvert_exporter": "python",
   "pygments_lexer": "ipython3",
   "version": "3.9.13"
  }
 },
 "nbformat": 4,
 "nbformat_minor": 5
}
