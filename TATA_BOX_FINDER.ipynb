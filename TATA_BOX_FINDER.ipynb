{
 "cells": [
  {
   "cell_type": "code",
   "execution_count": 2,
   "id": "0ff73302",
   "metadata": {},
   "outputs": [],
   "source": [
    "class node:\n",
    "    def __init__(self):\n",
    "        self.children = {}\n",
    "        self.isEnd = False\n",
    "        #counter to keep track\n",
    "        self.count = 0\n",
    "\n",
    "def trie(patterns):\n",
    "    root = node()\n",
    "    for pattern in patterns:\n",
    "        curr = root\n",
    "        for char in pattern:\n",
    "            if char not in curr.children:\n",
    "                curr.children[char] = node()\n",
    "            curr = curr.children[char]\n",
    "            #last character is end character\n",
    "            curr.isEnd = True\n",
    "    \n",
    "    return root\n",
    "\n",
    "def counts(db,trie,patterns):\n",
    "    output = {}\n",
    "    for i in range(len(db)):\n",
    "        curr = trie\n",
    "        for j in range(i, len(db)):\n",
    "            char = db[j]\n",
    "            #traverse if in children\n",
    "            if char in curr.children:\n",
    "                curr = curr.children[char]\n",
    "            #else just break\n",
    "            else:\n",
    "                break\n",
    "            if curr.isEnd:\n",
    "                #update count at ends nodes when found\n",
    "                curr.count = curr.count + 1\n",
    "\n",
    "    \n",
    "    for pat in patterns:\n",
    "        curr = trie\n",
    "        for char in pat:\n",
    "            curr = curr.children[char]\n",
    "        #get the count at the end character, defined in node\n",
    "        output[pat] = curr.count\n",
    "        \n",
    "    return output\n"
   ]
  },
  {
   "cell_type": "code",
   "execution_count": 3,
   "id": "457d4445",
   "metadata": {},
   "outputs": [],
   "source": [
    "def eval(seqlen,databaselen):\n",
    "    return databaselen*seqlen*((0.25)**seqlen)"
   ]
  },
  {
   "cell_type": "code",
   "execution_count": 13,
   "id": "27f3b4e5",
   "metadata": {},
   "outputs": [
    {
     "name": "stdout",
     "output_type": "stream",
     "text": [
      "{'TATA': 130, 'TATAA': 31, 'TATATATA': 10, 'TATAAAAG': 0, 'TATAAAAC': 1, 'TATATAAG': 1, 'TATATAAC': 0}\n",
      "E-val for TATA is : 74.19921875\n",
      "E-val for TATAA is : 18.5498046875\n",
      "E-val for TATATATA is : 0.2898406982421875\n",
      "E-val for TATAAAAG is : 0.2898406982421875\n",
      "E-val for TATAAAAC is : 0.2898406982421875\n",
      "E-val for TATATAAG is : 0.2898406982421875\n",
      "E-val for TATATAAC is : 0.2898406982421875\n"
     ]
    }
   ],
   "source": [
    "#CAOV3\n",
    "file1 = open(\"chr3CAOV3.txt\",\"r\")\n",
    "data = file1.readlines()\n",
    "genome = data[0]\n",
    "\n",
    "patterns = [\"TATA\",\"TATAA\",\"TATATATA\",\"TATAAAAG\",\n",
    "           \"TATAAAAC\",\"TATATAAG\",\"TATATAAC\"]\n",
    "\n",
    "tree = trie(patterns) \n",
    "\n",
    "output = counts(genome,tree,patterns)\n",
    "\n",
    "print(output)\n",
    "\n",
    "for element in output:\n",
    "    print(\"E-val for \" + element + \" is : \" + str(eval(len(element),len(genome))))\n",
    "# len(database) * (0.25)**k"
   ]
  },
  {
   "cell_type": "code",
   "execution_count": 14,
   "id": "aa532241",
   "metadata": {},
   "outputs": [
    {
     "name": "stdout",
     "output_type": "stream",
     "text": [
      "{'TATA': 610, 'TATAA': 178, 'TATATATA': 22, 'TATAAAAG': 6, 'TATAAAAC': 2, 'TATATAAG': 1, 'TATATAAC': 0}\n",
      "E-val for TATA is : 361.82421875\n",
      "E-val for TATAA is : 90.4560546875\n",
      "E-val for TATATATA is : 1.4133758544921875\n",
      "E-val for TATAAAAG is : 1.4133758544921875\n",
      "E-val for TATAAAAC is : 1.4133758544921875\n",
      "E-val for TATATAAG is : 1.4133758544921875\n",
      "E-val for TATATAAC is : 1.4133758544921875\n"
     ]
    }
   ],
   "source": [
    "#chr3HLT.txt\n",
    "file1 = open(\"chr3HLT.txt\",\"r\")\n",
    "data = file1.readlines()\n",
    "genome = data[0]\n",
    "\n",
    "patterns = [\"TATA\",\"TATAA\",\"TATATATA\",\"TATAAAAG\",\n",
    "           \"TATAAAAC\",\"TATATAAG\",\"TATATAAC\"]\n",
    "\n",
    "tree = trie(patterns) \n",
    "\n",
    "output2 = counts(genome,tree,patterns)\n",
    "\n",
    "print(output2)\n",
    "for element in output2:\n",
    "    print(\"E-val for \" + element + \" is : \" + str(eval(len(element),len(genome))))\n",
    "# len(database) * (0.25)**k"
   ]
  },
  {
   "cell_type": "code",
   "execution_count": 15,
   "id": "b4a849d5",
   "metadata": {},
   "outputs": [
    {
     "name": "stdout",
     "output_type": "stream",
     "text": [
      "{'TATA': 323, 'TATAA': 116, 'TATATATA': 6, 'TATAAAAG': 1, 'TATAAAAC': 4, 'TATATAAG': 5, 'TATATAAC': 1}\n",
      "E-val for TATA is : 206.74609375\n",
      "E-val for TATAA is : 51.6865234375\n",
      "E-val for TATATATA is : 0.8076019287109375\n",
      "E-val for TATAAAAG is : 0.8076019287109375\n",
      "E-val for TATAAAAC is : 0.8076019287109375\n",
      "E-val for TATATAAG is : 0.8076019287109375\n",
      "E-val for TATATAAC is : 0.8076019287109375\n"
     ]
    }
   ],
   "source": [
    "#chr3MFE280.txt\n",
    "file1 = open(\"chr3MFE280.txt\",\"r\")\n",
    "data = file1.readlines()\n",
    "genome = data[0]\n",
    "\n",
    "patterns = [\"TATA\",\"TATAA\",\"TATATATA\",\"TATAAAAG\",\n",
    "           \"TATAAAAC\",\"TATATAAG\",\"TATATAAC\"]\n",
    "\n",
    "tree = trie(patterns) \n",
    "\n",
    "output3 = counts(genome,tree,patterns)\n",
    "\n",
    "print(output3)\n",
    "for element in output3:\n",
    "    print(\"E-val for \" + element + \" is : \" + str(eval(len(element),len(genome))))\n",
    "# len(database) * (0.25)**k"
   ]
  },
  {
   "cell_type": "code",
   "execution_count": 17,
   "id": "55fa6210",
   "metadata": {},
   "outputs": [
    {
     "name": "stdout",
     "output_type": "stream",
     "text": [
      "{'TATA': 1083, 'TATAA': 326, 'TATATATA': 42, 'TATAAAAG': 4, 'TATAAAAC': 10, 'TATATAAG': 7, 'TATATAAC': 7}\n",
      "E-val for TATA is : 522.40234375\n",
      "E-val for TATAA is : 130.6005859375\n",
      "E-val for TATATATA is : 2.0406341552734375\n",
      "E-val for TATAAAAG is : 2.0406341552734375\n",
      "E-val for TATAAAAC is : 2.0406341552734375\n",
      "E-val for TATATAAG is : 2.0406341552734375\n",
      "E-val for TATATAAC is : 2.0406341552734375\n"
     ]
    }
   ],
   "source": [
    "#chr3MFE319.txt\n",
    "file1 = open(\"chr3MFE319.txt\",\"r\")\n",
    "data = file1.readlines()\n",
    "genome = data[0]\n",
    "\n",
    "patterns = [\"TATA\",\"TATAA\",\"TATATATA\",\"TATAAAAG\",\n",
    "           \"TATAAAAC\",\"TATATAAG\",\"TATATAAC\"]\n",
    "\n",
    "tree = trie(patterns) \n",
    "\n",
    "output4 = counts(genome,tree,patterns)\n",
    "\n",
    "print(output4)\n",
    "for element in output4:\n",
    "    print(\"E-val for \" + element + \" is : \" + str(eval(len(element),len(genome))))\n",
    "# len(database) * (0.25)**k"
   ]
  },
  {
   "cell_type": "code",
   "execution_count": 18,
   "id": "7a7cf81a",
   "metadata": {},
   "outputs": [
    {
     "name": "stdout",
     "output_type": "stream",
     "text": [
      "{'TATA': 781, 'TATAA': 244, 'TATATATA': 81, 'TATAAAAG': 5, 'TATAAAAC': 5, 'TATATAAG': 2, 'TATATAAC': 4}\n",
      "E-val for TATA is : 597.71875\n",
      "E-val for TATAA is : 149.4296875\n",
      "E-val for TATATATA is : 2.3348388671875\n",
      "E-val for TATAAAAG is : 2.3348388671875\n",
      "E-val for TATAAAAC is : 2.3348388671875\n",
      "E-val for TATATAAG is : 2.3348388671875\n",
      "E-val for TATATAAC is : 2.3348388671875\n"
     ]
    }
   ],
   "source": [
    "#chr3SKOV3_OVARY.txt\n",
    "file1 = open(\"chr3SKOV3_OVARY.txt\",\"r\")\n",
    "data = file1.readlines()\n",
    "genome = data[0]\n",
    "\n",
    "patterns = [\"TATA\",\"TATAA\",\"TATATATA\",\"TATAAAAG\",\n",
    "           \"TATAAAAC\",\"TATATAAG\",\"TATATAAC\"]\n",
    "\n",
    "tree = trie(patterns) \n",
    "\n",
    "output5 = counts(genome,tree,patterns)\n",
    "\n",
    "print(output5)\n",
    "for element in output5:\n",
    "    print(\"E-val for \" + element + \" is : \" + str(eval(len(element),len(genome))))\n",
    "# len(database) * (0.25)**k"
   ]
  },
  {
   "cell_type": "code",
   "execution_count": 4,
   "id": "22aa8ccf",
   "metadata": {},
   "outputs": [
    {
     "name": "stdout",
     "output_type": "stream",
     "text": [
      "{'TATA': 8781, 'TATAA': 2671, 'TATATATA': 393, 'TATAAAAG': 65, 'TATAAAAC': 66, 'TATATAAG': 26, 'TATATAAC': 45}\n",
      "E-val for TATA is : 21445.015625\n",
      "E-val for TATAA is : 6701.5673828125\n",
      "E-val for TATATATA is : 167.5391845703125\n",
      "E-val for TATAAAAG is : 167.5391845703125\n",
      "E-val for TATAAAAC is : 167.5391845703125\n",
      "E-val for TATATAAG is : 167.5391845703125\n",
      "E-val for TATATAAC is : 167.5391845703125\n"
     ]
    }
   ],
   "source": [
    "#chr3CHAGOK1_LUNG.txt\n",
    "file1 = open(\"chr3CHAGOK1_LUNG.txt\",\"r\")\n",
    "data = file1.readlines()\n",
    "genome = data[0]\n",
    "\n",
    "patterns = [\"TATA\",\"TATAA\",\"TATATATA\",\"TATAAAAG\",\n",
    "           \"TATAAAAC\",\"TATATAAG\",\"TATATAAC\"]\n",
    "\n",
    "tree = trie(patterns) \n",
    "\n",
    "output6 = counts(genome,tree,patterns)\n",
    "\n",
    "print(output6)\n",
    "for element in output6:\n",
    "    print(\"E-val for \" + element + \" is : \" + str(eval(len(element),len(genome))))\n",
    "# len(database) * (0.25)**k"
   ]
  },
  {
   "cell_type": "code",
   "execution_count": 5,
   "id": "e5be703f",
   "metadata": {},
   "outputs": [
    {
     "name": "stdout",
     "output_type": "stream",
     "text": [
      "{'TATA': 1737, 'TATAA': 443, 'TATATATA': 73, 'TATAAAAG': 11, 'TATAAAAC': 7, 'TATATAAG': 4, 'TATATAAC': 5}\n",
      "E-val for TATA is : 5641.71875\n",
      "E-val for TATAA is : 1763.037109375\n",
      "E-val for TATATATA is : 44.075927734375\n",
      "E-val for TATAAAAG is : 44.075927734375\n",
      "E-val for TATAAAAC is : 44.075927734375\n",
      "E-val for TATATAAG is : 44.075927734375\n",
      "E-val for TATATAAC is : 44.075927734375\n"
     ]
    }
   ],
   "source": [
    "#chr3AU565_BREAST.txt\n",
    "file1 = open(\"chr3AU565_BREAST.txt\",\"r\")\n",
    "data = file1.readlines()\n",
    "genome = data[0]\n",
    "\n",
    "patterns = [\"TATA\",\"TATAA\",\"TATATATA\",\"TATAAAAG\",\n",
    "           \"TATAAAAC\",\"TATATAAG\",\"TATATAAC\"]\n",
    "\n",
    "tree = trie(patterns) \n",
    "\n",
    "output7 = counts(genome,tree,patterns)\n",
    "\n",
    "print(output7)\n",
    "for element in output7:\n",
    "    print(\"E-val for \" + element + \" is : \" + str(eval(len(element),len(genome))))\n",
    "# len(database) * (0.25)**k"
   ]
  },
  {
   "cell_type": "code",
   "execution_count": null,
   "id": "4a78b9df",
   "metadata": {},
   "outputs": [],
   "source": []
  }
 ],
 "metadata": {
  "kernelspec": {
   "display_name": "Python 3 (ipykernel)",
   "language": "python",
   "name": "python3"
  },
  "language_info": {
   "codemirror_mode": {
    "name": "ipython",
    "version": 3
   },
   "file_extension": ".py",
   "mimetype": "text/x-python",
   "name": "python",
   "nbconvert_exporter": "python",
   "pygments_lexer": "ipython3",
   "version": "3.9.13"
  }
 },
 "nbformat": 4,
 "nbformat_minor": 5
}
